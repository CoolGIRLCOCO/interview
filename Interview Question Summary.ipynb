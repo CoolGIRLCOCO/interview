{
 "cells": [
  {
   "cell_type": "markdown",
   "metadata": {},
   "source": [
    "## 1. Linear Regression Assumption:"
   ]
  },
  {
   "cell_type": "markdown",
   "metadata": {},
   "source": [
    "LINE：\n",
    "\n",
    "（1） Linearity: 应变量和每个自变量都是线性相关\n",
    "\n",
    "（2） Independence：所有观测值，误差项之间相互独立\n",
    "\n",
    "（3） Normality：误差项服从正态分布\n",
    "\n",
    "（4） Equal-variance：所有误差项具有相等方差\n",
    "\n",
    "10条版本+check assumption in r：\n",
    "\n",
    "http://r-statistics.co/Assumptions-of-Linear-Regression.html\n",
    "\n",
    "（1）The regression model is linear in parameter\n",
    "#### 对于parameter的线性\n",
    "       \n",
    "        An example of model equation that is linear in parameters \n",
    "        Y = a + (β1*X1) + (β2*X22)\n",
    "\n",
    "        Though, the X2 is raised to power 2, the equation is still linear in beta parameters. So the assumption is satisfied in this case.\n",
    "    \n",
    "（2）The mean of residuals is zero\n",
    "#### 2,3,4,10 说的就一句话：residual ～ i.i.d. Normal(0, variance) \n",
    "#### 检验方法：求mean of resudual是否为零\n",
    "        How to check?\n",
    "        Check the mean of the residuals. If it zero (or very close), then this assumption is held true for that model. This is default unless you explicitly make amends, such as setting the intercept term to zero.\n",
    "        \n",
    "（3）Homoscedasticity of residuals or equal variance\n",
    "#### 检验方法：residual vs fitted plot，如果线很类似一条0周围的直线，就死活equal variance，如果看起来像curve，则不是equal variance\n",
    "        How to check?\n",
    "        Once the regression model is built, set par(mfrow=c(2, 2)), then, plot the model using plot(lm.mod). This produces four plots. The top-left and bottom-left plots shows how the residuals vary as the fitted values increase.\n",
    "        \n",
    "（4）No autocorrelation of residuals（residual independence）\n",
    "This is applicable especially for time series data. Autocorrelation is the correlation of a time Series with lags of itself. When the residuals are autocorrelated, it means that the current value is dependent of the previous (historic) values and that there is a definite unexplained pattern in the Y variable that shows up in the disturbances.\n",
    "#### 检验方法：Using acf plot，runs test 或者Durbin-Watson test来检查residual之间的independence\n",
    "\n",
    "http://r-statistics.co/Assumptions-of-Linear-Regression.html\n",
    "\n",
    "        How to check for autocorrelation?\n",
    "        Below, are 3 ways you could check for autocorrelation of residuals.\n",
    "\n",
    "（5）The X variables and residuals are uncorrelated\n",
    "#### 由qqplot可见：x无论变成多小多大，residual应该差不多才行\n",
    "#### 检验方法：做x variable和residual的correlation\n",
    "\n",
    "        How to check?\n",
    "        Do a correlation test on the X variable and the residuals.\n",
    "\n",
    "（6）The number of observations must be greater than number of Xs\n",
    "#### fat matrix不可以\n",
    "\n",
    "（7）The variability in X values is positive\n",
    "每个column里的值不唯一，variance不为零\n",
    "\n",
    "        This means the X values in a given sample must not all be the same (or even nearly the same).\n",
    "#### 检验方法：求这个column的variance，值不等于零\n",
    "        How to check? The variance in the X variable above is much larger than 0\n",
    "\n",
    "（8）The regression model is correctly specified\n",
    "？？？\n",
    "        This means that if the Y and X variable has an inverse relationship, the model equation should be specified appropriately:\n",
    "        Y=β1+β2∗(1/X)\n",
    " \n",
    "（9）No perfect multicollinearity\n",
    "#### feature之间没有强线性相关\n",
    "        There is no perfect linear relationship between explanatory variables.\n",
    "#### 检验方法： VIF\n",
    "        How to check?\n",
    "        Using Variance Inflation factor (VIF). But, What is VIF?\n",
    "\n",
    "        VIF is a metric computed for every X variable that goes into a linear model. If the VIF of a variable is high, it means the information in that variable is already explained by other X variables present in the given model, which means, more redundant is that variable. So, lower the VIF (<2) the better. VIF for a X var is calculated as:\n",
    "\n",
    "\n",
    "        VIF=1(1−Rsq)\n",
    "\n",
    "\n",
    "        where, Rsq is the Rsq term for the model with given X as response against all other Xs that went into the model as predictors.\n",
    "\n",
    "        Practically, if two of the X′s have high correlation, they will likely have high VIFs. Generally, VIF for an X variable should be less than 4 in order to be accepted as not causing multi-collinearity. The cutoff is kept as low as 2, if you want to be strict about your X variables.\n",
    "        \n",
    "（10）Normality of residuals: The residuals should be normally distributed. If the maximum likelihood method (not OLS) is used to compute the estimates, this also implies the Y and the Xs are also normally distributed.\n",
    "#### 检验方法：qq plot\n",
    "<img src=\"qqplot.png\">\n",
    "        If points lie exactly on the line, it is perfectly normal distribution. However, some deviation is to be expected, particularly near the ends (note the upper right), but the deviations should be small, even lesser that they are here.\n",
    "       "
   ]
  },
  {
   "cell_type": "markdown",
   "metadata": {},
   "source": [
    "# 2. T test"
   ]
  },
  {
   "cell_type": "markdown",
   "metadata": {},
   "source": [
    "# 3. p value "
   ]
  },
  {
   "cell_type": "markdown",
   "metadata": {},
   "source": [
    "# 4. CTL"
   ]
  },
  {
   "cell_type": "code",
   "execution_count": null,
   "metadata": {},
   "outputs": [],
   "source": []
  }
 ],
 "metadata": {
  "kernelspec": {
   "display_name": "Python 3",
   "language": "python",
   "name": "python3"
  },
  "language_info": {
   "codemirror_mode": {
    "name": "ipython",
    "version": 3
   },
   "file_extension": ".py",
   "mimetype": "text/x-python",
   "name": "python",
   "nbconvert_exporter": "python",
   "pygments_lexer": "ipython3",
   "version": "3.7.3"
  }
 },
 "nbformat": 4,
 "nbformat_minor": 2
}
